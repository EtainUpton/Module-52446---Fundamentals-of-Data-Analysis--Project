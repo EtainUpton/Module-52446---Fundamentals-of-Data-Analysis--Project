{
 "cells": [
  {
   "cell_type": "markdown",
   "metadata": {},
   "source": [
    "# To be completed in this notebook;\n",
    "\n",
    "1\tSummarise the history of the box plot and situations in which it used. COMPLETED\n",
    "\n",
    "2\tDemonstrate the use of the box plot using data of your choosing. \n",
    "\n",
    "3\tExplain any relevant terminology such as the terms quartile and percentile. COMPLETED\n",
    "\n",
    "4\tCompare the box plot to alternatives.\n"
   ]
  },
  {
   "cell_type": "markdown",
   "metadata": {},
   "source": [
    "## <font color='red'>1 Summarise the history of the box plot and situations in which it used. </font>\n",
    "\n",
    "### History:\n",
    "\n",
    "While researching the history of box plots online I came accross a paper titled ‘40 years of boxplots’ written by Hadley Wickham and Lisa Stryjewski, dated November 29, 2011 which I found very informative;\n",
    "\n",
    "*The boxplot plot has been around for over 40 years.\n",
    "John Tukey introduced the box and whiskers plot as part of his toolkit for exploratory data analysis (Tukey,\n",
    "1970), but it did not become widely known until formal publication (Tukey, 1977). The boxplot is a compact\n",
    "distributional summary, displaying less detail than a histogram or kernel density, but also taking up less\n",
    "space. Boxplots use robust summary statistics that are always located at actual data points, are quickly\n",
    "computable (originally by hand), and have no tuning parameters. They are particularly useful for comparing\n",
    "distributions across groups.\n",
    "Today, over 40 years later, the boxplot has become one of the most frequently used statistical graphics,\n",
    "and is one of the few plot types invented in the 20th century that has found widespread adoption. Due to\n",
    "their elegance and practicality, boxplots have spawned a wealth of variations and enhancement. This paper\n",
    "pulls these together in one place, showing how the boxplot has evolved.*\n",
    "(Source: http://vita.had.co.nz/papers/boxplots.pdf)\n",
    "\n",
    "A Box plot is *a simple way of representing statistical data on a plot in which a rectangle is drawn to represent the second and third quartiles, usually with a vertical line inside to indicate the median value.* \n",
    "(Source: https://www.google.com/search?rlz=1C1CHBF_enIE824IE824&q=Dictionary)\n",
    "\n",
    "*The box plot (a.k.a. box and whisker diagram) is a standardized way of displaying the distribution of data based on the five number summary: minimum, first quartile, median, third quartile, and maximum.*\n",
    "(Source: http://www.physics.csbsju.edu/stats/box2.html)\n",
    "\n",
    "*A box and whisker plot is defined as a graphical method of displaying variation in a set of data. In most cases, a histogram analysis provides a sufficient display, but a box and whisker plot can provide additional detail while allowing multiple sets of data to be displayed in the same graph. Some types are called box and whisker plots with outliers.\n",
    "Box and whisker plots or diagrams are very effective and easy to read, as they can summarize data from multiple sources and display the results in a single graph. Box and whisker plots allow for comparison of data from different categories for easier, more effective decision-making.*\n",
    "(Source: https://asq.org/quality-resources/box-whisker-plot)\n",
    "\n",
    "### Situations in which it is used:\n",
    "\n",
    "I researched situations in which a box plot can be used and learned the following;\n",
    "\n",
    "Use box and whisker plots when you have multiple data sets from independent sources that are related to each other in some way. Examples include:\n",
    "\n",
    "- Test scores between schools or classrooms\n",
    "- Data from before and after a process change\n",
    "- Similar features on one part, such as camshaft lobes\n",
    "- Data from duplicate machines manufacturing the same products.\n",
    "(Source: https://asq.org/quality-resources/box-whisker-plot)\n"
   ]
  },
  {
   "cell_type": "markdown",
   "metadata": {},
   "source": [
    "## <font color='red'>2 Demonstrate the use of the box plot using data of your choosing.</font> \n",
    "\n",
    "According to this project's instructions the boxplot function from the Python package matplotlib.pyplot can be used to create box plots.\n",
    "\n",
    "I decided to use the data I synthesise for the *Programming for Data Analysis* Project as part of Module 52465.\n",
    "\n",
    "I reviewed the *Creating Histograms in Pyplot* and *Side-by-side plots* video which was supplied by Dr.Ian McLoughlin as content for Module 52465.\n",
    "\n"
   ]
  },
  {
   "cell_type": "markdown",
   "metadata": {},
   "source": [
    "## <font color='red'>3 Explain any relevant terminology such as the terms quartile and percentile. </font>\n",
    "\n",
    "##### Quartile:\n",
    "A quartile is a type of quantile. \n",
    "The first quartile (Q1) is defined as the middle number between the smallest number and the median of the data set. \n",
    "The second quartile (Q2) is the median of the data. \n",
    "The third quartile (Q3) is the middle value between the median and the highest value of the data set. \n",
    "(Source: https://en.wikipedia.org/wiki/Quartile)\n",
    "\n",
    "![Image](https://www.onlinemathlearning.com/image-files/xmedian-quartiles.png.pagespeed.ic.QqE7uKQxYQ.png)\n",
    "\n",
    "##### Quantile: \n",
    "In statistics and probability quantiles are cut points dividing the range of a probability distribution into continuous intervals with equal probabilities, or dividing the observations in a sample in the same way. \n",
    "There is one less quantile than the number of groups created. \n",
    "(Source: https://en.wikipedia.org/wiki/Quantile)\n",
    "\n",
    "##### Percentile:\n",
    "A percentile (or a centile) is a measure used in statistics indicating the value below which a given percentage of observations in a group of observations fall. For example, the 20th percentile is the value (or score) below which 20% of the observations may be found.\n",
    "The term percentile and the related term percentile rank are often used in the reporting of scores from norm-referenced tests. For example, if a score is at the 86th percentile, where 86 is the percentile rank, it is equal to the value below which 86% of the observations may be found (carefully contrast with in the 86th percentile, which means the score is at or below the value of which 86% of the observations may be found - every score is in the 100th percentile). \n",
    "The 25th percentile is also known as the first quartile (Q1), the 50th percentile as the median or second quartile (Q2), and the 75th percentile as the third quartile (Q3). \n",
    "In general, percentiles and quartiles are specific types of quantiles. \n",
    "(Source: https://en.wikipedia.org/wiki/Percentile)"
   ]
  },
  {
   "cell_type": "markdown",
   "metadata": {},
   "source": [
    "## <font color='red'>4 Compare the box plot to alternatives.</font>\n",
    "\n",
    "Alternatives;\n",
    "#### - Histogram\n",
    "*A histogram is a type of bar chart that graphically displays the frequencies of a data set. Similar to a bar chart, a histogram plots the frequency, or raw count, on the Y-axis (vertical) and the variable being measured on the X-axis (horizontal).*\n",
    "(Source: https://www.brighthubpm.com/six-sigma/58254-box-plots-vs-histograms-in-project-management/)"
   ]
  },
  {
   "cell_type": "markdown",
   "metadata": {},
   "source": [
    "#### References\n",
    "- https://stackoverflow.com/questions/19746350/how-does-one-change-color-in-markdown-cells-ipython-jupyter-notebook\n"
   ]
  },
  {
   "cell_type": "code",
   "execution_count": null,
   "metadata": {},
   "outputs": [],
   "source": []
  }
 ],
 "metadata": {
  "kernelspec": {
   "display_name": "Python 3",
   "language": "python",
   "name": "python3"
  },
  "language_info": {
   "codemirror_mode": {
    "name": "ipython",
    "version": 3
   },
   "file_extension": ".py",
   "mimetype": "text/x-python",
   "name": "python",
   "nbconvert_exporter": "python",
   "pygments_lexer": "ipython3",
   "version": "3.7.0"
  }
 },
 "nbformat": 4,
 "nbformat_minor": 2
}
